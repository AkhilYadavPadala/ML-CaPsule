{
 "cells": [
  {
   "cell_type": "code",
   "execution_count": 2,
   "id": "4ad2394c-66cc-4856-bd7e-1ce11462b466",
   "metadata": {},
   "outputs": [],
   "source": [
    "#Import necessary libraries\n",
    "import pandas as pd\n",
    "import numpy as np\n",
    "from sklearn.feature_extraction.text import CountVectorizer\n",
    "from sklearn.feature_extraction.text import TfidfVectorizer\n",
    "from sklearn.model_selection import train_test_split\n",
    "from sklearn.ensemble import RandomForestClassifier\n",
    "import gradio as gr"
   ]
  },
  {
   "cell_type": "code",
   "execution_count": 3,
   "id": "da0ad62e-612a-4298-8432-96fd4326181e",
   "metadata": {},
   "outputs": [
    {
     "name": "stdout",
     "output_type": "stream",
     "text": [
      "      password  strength\n",
      "0     kzde5577       1.0\n",
      "1     kino3434       1.0\n",
      "2    visi7k1yr       1.0\n",
      "3     megzy123       1.0\n",
      "4  lamborghin1       1.0\n"
     ]
    }
   ],
   "source": [
    "#Loading the dataset\n",
    "data = pd.read_csv(\"data.csv\",on_bad_lines = 'skip')\n",
    "print(data.head())"
   ]
  },
  {
   "cell_type": "markdown",
   "id": "5e460d88-843f-4293-b795-5f804c300fd8",
   "metadata": {},
   "source": [
    "The data set has two columns: 1.password and 2. strength"
   ]
  },
  {
   "cell_type": "markdown",
   "id": "12805e85-6500-4ae9-800e-1e5c805a1b3f",
   "metadata": {},
   "source": [
    "1.  0 means the password's strength is weak"
   ]
  },
  {
   "cell_type": "markdown",
   "id": "156d3dff-f348-4131-8887-e6a3c86011b6",
   "metadata": {},
   "source": [
    "2.  1 means the password's strength is medium "
   ]
  },
  {
   "cell_type": "markdown",
   "id": "38db3373-298b-4252-9687-5784ba2a0c6d",
   "metadata": {},
   "source": [
    "3.  2 means the password's strength is strong"
   ]
  },
  {
   "cell_type": "code",
   "execution_count": 4,
   "id": "c8a0bed7-3249-441f-b00d-25a0f27b990f",
   "metadata": {},
   "outputs": [
    {
     "name": "stdout",
     "output_type": "stream",
     "text": [
      "             password strength\n",
      "61212     bfourjqxi60   Medium\n",
      "175121        ewaewa1     Weak\n",
      "291519  venitocamela2   Medium\n",
      "172515      dimensi18   Medium\n",
      "10764       yrilof415   Medium\n"
     ]
    }
   ],
   "source": [
    "#Converting 0, 1, and 2 values in the strength column to weak,medium and strong\n",
    "data = data.dropna()\n",
    "data[\"strength\"] = data[\"strength\"].map({0: \"Weak\", \n",
    "                                         1: \"Medium\",\n",
    "                                         2: \"Strong\"})\n",
    "print(data.sample(5))"
   ]
  },
  {
   "cell_type": "code",
   "execution_count": 5,
   "id": "15b82755-80d0-4d0b-84a6-9f7adfe0b8ba",
   "metadata": {},
   "outputs": [],
   "source": [
    "#tokenize and split the data into training and test sets\n",
    "def word(password):\n",
    "    character=[]\n",
    "    for i in password:\n",
    "        character.append(i)\n",
    "    return character\n",
    "  \n",
    "x = np.array(data[\"password\"])\n",
    "y = np.array(data[\"strength\"])\n",
    "\n",
    "tdif = TfidfVectorizer(tokenizer=word,token_pattern=None)\n",
    "x = tdif.fit_transform(x)\n",
    "xtrain, xtest, ytrain, ytest = train_test_split(x, y, \n",
    "                                                test_size=0.01, \n",
    "                                                random_state=42)"
   ]
  },
  {
   "cell_type": "code",
   "execution_count": 6,
   "id": "ebb095c6-33f4-4d4d-a3f3-b7bace94761c",
   "metadata": {},
   "outputs": [
    {
     "name": "stdout",
     "output_type": "stream",
     "text": [
      "0.8158877109153352\n"
     ]
    }
   ],
   "source": [
    "#Training the model\n",
    "from sklearn.linear_model import LogisticRegression\n",
    "model = LogisticRegression(max_iter = 1000)\n",
    "model.fit(xtrain, ytrain)\n",
    "print(model.score(xtest, ytest))"
   ]
  },
  {
   "cell_type": "code",
   "execution_count": 10,
   "id": "c5f07fb3-0c08-475d-8675-2f713fd3ece8",
   "metadata": {},
   "outputs": [
    {
     "name": "stdout",
     "output_type": "stream",
     "text": [
      "Running on local URL:  http://127.0.0.1:7860\n",
      "\n",
      "To create a public link, set `share=True` in `launch()`.\n"
     ]
    },
    {
     "data": {
      "text/html": [
       "<div><iframe src=\"http://127.0.0.1:7860/\" width=\"100%\" height=\"500\" allow=\"autoplay; camera; microphone; clipboard-read; clipboard-write;\" frameborder=\"0\" allowfullscreen></iframe></div>"
      ],
      "text/plain": [
       "<IPython.core.display.HTML object>"
      ]
     },
     "metadata": {},
     "output_type": "display_data"
    }
   ],
   "source": [
    "# Function to check password strength using the trained model\n",
    "def predict_password_strength(password):\n",
    "    data = tdif.transform([password])\n",
    "    output = model.predict(data)\n",
    "    return output[0]\n",
    "\n",
    "interface = gr.Interface(\n",
    "    fn=predict_password_strength, \n",
    "    inputs=\"textbox\",\n",
    "    outputs=\"textbox\",\n",
    "    title=\"Password Strength Checker\",\n",
    "    description=\"Enter a password to check its strength (Weak, Medium, Strong)\"\n",
    ")\n",
    "\n",
    "# Launch the app\n",
    "if __name__ == \"__main__\":\n",
    "    interface.launch()"
   ]
  },
  {
   "cell_type": "code",
   "execution_count": null,
   "id": "0cd5f99c-cdbc-4249-a64c-3cb206028329",
   "metadata": {},
   "outputs": [],
   "source": []
  }
 ],
 "metadata": {
  "kernelspec": {
   "display_name": "Python 3 (ipykernel)",
   "language": "python",
   "name": "python3"
  },
  "language_info": {
   "codemirror_mode": {
    "name": "ipython",
    "version": 3
   },
   "file_extension": ".py",
   "mimetype": "text/x-python",
   "name": "python",
   "nbconvert_exporter": "python",
   "pygments_lexer": "ipython3",
   "version": "3.11.7"
  }
 },
 "nbformat": 4,
 "nbformat_minor": 5
}
